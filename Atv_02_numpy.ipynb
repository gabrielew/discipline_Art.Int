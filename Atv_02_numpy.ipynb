{
 "cells": [
  {
   "cell_type": "markdown",
   "metadata": {},
   "source": [
    "## NumPy em 50 células de Notebook\n",
    "por Numan Yilmaz, 10 de maio 2017, modificado por Wendell Diniz, 10 de abril, 2019\n",
    "Original [aqui][1]\n",
    "\n",
    "Este caderno contém uma introdução sobre a biblioteca NumPy, contendo conceitos iniciais, funções e operações comuns. Os conceitos são apresentados e seguidos com um exemplo.\n",
    "\n",
    "Este tutorial está dividido nas seguintes partes:\n",
    "\n",
    " - O que é o NumPy?\n",
    " - Como criar NumPy arrays\n",
    " - Indexação e indexação avançada\n",
    " - Slicing\n",
    " - Funções universais (Ufuncs)\n",
    " - Broadcasting\n",
    " - Máscaras, ordenação e comparação\n",
    " - Links para estudos\n",
    " \n",
    "[1]:https://datascientistnotebook.com/2017/04/01/numpy-in-50-cells-of-notebook/"
   ]
  },
  {
   "cell_type": "markdown",
   "metadata": {},
   "source": [
    "### 1- O que é o NumPy e o NumPy array?\n",
    "\n",
    "NumPy é um pacote de operações em matrizes e serve como base para vários outros pacotes do Python, tais como o Pandas. O que faz o NumPy tão incrível é a estrutura de dados em que ele se baseia, a **ndarray**. O ndarray significa arranjo n-dimensional e basicamente, se parece com uma lista normal do Python. Entretanto, é muito mais eficiente do que a lista regular. Uma lista regular pode conter vários tipos de dados, tais como inteiros, strings, booleanos e até mesmos outras listas. Já um NumPy array contém apenas um tipo de dados, dessa forma dispensando a checagem do tipo para cada elemento, necessária para a lista quando acontece alguma computação sobre eles. Esta característica faz o NumPy uma ótima ferramenta para pesquisas e projetos em Ciência dos Dados.\n",
    "\n",
    "Antes de começar, vamos checar a versão no NumPy e do Python."
   ]
  },
  {
   "cell_type": "code",
   "execution_count": 1,
   "metadata": {},
   "outputs": [
    {
     "name": "stdout",
     "output_type": "stream",
     "text": [
      "NumPy version: 1.15.4\n",
      "Python version 3.7.1 (default, Dec 10 2018, 22:54:23) [MSC v.1915 64 bit (AMD64)]\n"
     ]
    }
   ],
   "source": [
    "# import numpy\n",
    "import numpy as np\n",
    "\n",
    "# sys was imported to check the python version\n",
    "import sys \n",
    "\n",
    "# check the version of python and numpy\n",
    "print('NumPy version:', np.__version__)\n",
    "print('Python version', sys.version)"
   ]
  },
  {
   "cell_type": "markdown",
   "metadata": {},
   "source": [
    "### 2- Como criar NumPy arrays"
   ]
  },
  {
   "cell_type": "markdown",
   "metadata": {},
   "source": [
    "Há muitas maneiras de se criar uma NumPy array. Vamos checar algumas delas:"
   ]
  },
  {
   "cell_type": "code",
   "execution_count": 2,
   "metadata": {},
   "outputs": [
    {
     "data": {
      "text/plain": [
       "array([1, 2, 3])"
      ]
     },
     "execution_count": 2,
     "metadata": {},
     "output_type": "execute_result"
    }
   ],
   "source": [
    "# Cria um array unidimensional. Pense em um plano cartesiano onde só existe um eixo.\n",
    "np.array([1, 2, 3])"
   ]
  },
  {
   "cell_type": "code",
   "execution_count": 4,
   "metadata": {},
   "outputs": [
    {
     "data": {
      "text/plain": [
       "array([0., 0., 0.])"
      ]
     },
     "execution_count": 4,
     "metadata": {},
     "output_type": "execute_result"
    }
   ],
   "source": [
    "# Criando um array unidimensional onde \n",
    "# todos os elementos são iniciados com o valor 0\n",
    "# Array de inteiros np.zeros(3, dtype='int')\n",
    "np.zeros(3)"
   ]
  },
  {
   "cell_type": "code",
   "execution_count": 5,
   "metadata": {},
   "outputs": [
    {
     "data": {
      "text/plain": [
       "array([1., 1., 1.])"
      ]
     },
     "execution_count": 5,
     "metadata": {},
     "output_type": "execute_result"
    }
   ],
   "source": [
    "# Agora, um array de 1s\n",
    "np.ones(3)"
   ]
  },
  {
   "cell_type": "code",
   "execution_count": 6,
   "metadata": {},
   "outputs": [
    {
     "data": {
      "text/plain": [
       "array([3, 8, 1])"
      ]
     },
     "execution_count": 6,
     "metadata": {},
     "output_type": "execute_result"
    }
   ],
   "source": [
    "# Um array contendo 3 elementos aleatórios entre 1 e 10\n",
    "np.random.randint(1,10, 3)"
   ]
  },
  {
   "cell_type": "code",
   "execution_count": 9,
   "metadata": {},
   "outputs": [
    {
     "data": {
      "text/plain": [
       "array([ 0. ,  2.5,  5. ,  7.5, 10. ])"
      ]
     },
     "execution_count": 9,
     "metadata": {},
     "output_type": "execute_result"
    }
   ],
   "source": [
    "# Criar um array linear uniformemente espaçado com 5 elementos de 0 a 10 \n",
    "np.linspace(0, 10, 5)"
   ]
  },
  {
   "cell_type": "code",
   "execution_count": 7,
   "metadata": {},
   "outputs": [
    {
     "data": {
      "text/plain": [
       "array([[1, 2, 3],\n",
       "       [4, 5, 6],\n",
       "       [7, 8, 9]])"
      ]
     },
     "execution_count": 7,
     "metadata": {},
     "output_type": "execute_result"
    }
   ],
   "source": [
    "# Agora, como criar um array bidimensional. Agora temos dois eixos.\n",
    "np.array([[1,2,3],\n",
    "         [4,5,6],\n",
    "         [7,8,9]])"
   ]
  },
  {
   "cell_type": "code",
   "execution_count": 10,
   "metadata": {},
   "outputs": [
    {
     "data": {
      "text/plain": [
       "array([[0.93090923, 0.26965228, 0.40359404, 0.72783444],\n",
       "       [0.41901513, 0.70217886, 0.15135356, 0.78402338],\n",
       "       [0.46473644, 0.70384872, 0.95781353, 0.38960893]])"
      ]
     },
     "execution_count": 10,
     "metadata": {},
     "output_type": "execute_result"
    }
   ],
   "source": [
    "# Criando uma matriz 3x4 com elementos aleatórios com valor entre 0 de 1\n",
    "np.random.random((3,4))"
   ]
  },
  {
   "cell_type": "code",
   "execution_count": 38,
   "metadata": {
    "scrolled": true
   },
   "outputs": [
    {
     "name": "stdout",
     "output_type": "stream",
     "text": [
      "[1 2 3]\n",
      "[[9 5 0]\n",
      " [2 4 0]\n",
      " [9 6 4]]\n"
     ]
    }
   ],
   "source": [
    "# Criando um array 1D a e um array 2D b\n",
    "a = np.array([1,2,3])\n",
    "b = np.random.randint(0,10,(3,3))\n",
    "\n",
    "print(a)\n",
    "print(b)"
   ]
  },
  {
   "cell_type": "code",
   "execution_count": 39,
   "metadata": {},
   "outputs": [
    {
     "data": {
      "text/plain": [
       "array([1, 2, 3, 4])"
      ]
     },
     "execution_count": 39,
     "metadata": {},
     "output_type": "execute_result"
    }
   ],
   "source": [
    "# Adicionando valores a um array \n",
    "a = np.append(a, 4)\n",
    "a"
   ]
  },
  {
   "cell_type": "code",
   "execution_count": 40,
   "metadata": {},
   "outputs": [
    {
     "name": "stdout",
     "output_type": "stream",
     "text": [
      "Forma de a: (4,)\n",
      "Forma de b: (3, 3)\n",
      "Dimensão de a: 1\n",
      "Dimensão de b: 2\n"
     ]
    }
   ],
   "source": [
    "# Imprimindo a forma e a dimensão de a e b\n",
    "print(\"Forma de a:\", np.shape(a))\n",
    "print(\"Forma de b:\", np.shape(b))\n",
    "\n",
    "print('Dimensão de a:', np.ndim(a))\n",
    "print('Dimensão de b:', np.ndim(b))"
   ]
  },
  {
   "cell_type": "code",
   "execution_count": 41,
   "metadata": {},
   "outputs": [
    {
     "name": "stdout",
     "output_type": "stream",
     "text": [
      "Número de elementos em a: 4\n",
      "Número de elementos em b: 9\n"
     ]
    }
   ],
   "source": [
    "#  Imprimindo o número de elementos de a e b\n",
    "print('Número de elementos em a:', np.size(a))\n",
    "print('Número de elementos em b:', np.size(b))"
   ]
  },
  {
   "cell_type": "markdown",
   "metadata": {},
   "source": [
    "Agora é sua vez! Tente criar os arrays conforme pedido."
   ]
  },
  {
   "cell_type": "markdown",
   "metadata": {},
   "source": [
    "<a id='Ex1'></a>\n",
    "#### 1 - Crie um array unidimensional com 10 elementos aleatórios com valor entre 1 e 100."
   ]
  },
  {
   "cell_type": "code",
   "execution_count": 25,
   "metadata": {},
   "outputs": [
    {
     "data": {
      "text/plain": [
       "array([25, 67,  3, 30, 27,  1, 51, 95, 44,  7])"
      ]
     },
     "execution_count": 25,
     "metadata": {},
     "output_type": "execute_result"
    }
   ],
   "source": [
    "c = np.random.randint(1,100,[10])\n",
    "c"
   ]
  },
  {
   "cell_type": "markdown",
   "metadata": {},
   "source": [
    "<a id='Ex2'></a>\n",
    "#### 2 - Agora, crie um array bidimensional, 4x4, com números aleatórios entre 0 e 1"
   ]
  },
  {
   "cell_type": "code",
   "execution_count": 35,
   "metadata": {},
   "outputs": [
    {
     "data": {
      "text/plain": [
       "array([[0, 0, 0, 1],\n",
       "       [0, 1, 0, 0],\n",
       "       [1, 0, 0, 0],\n",
       "       [0, 1, 0, 0]])"
      ]
     },
     "execution_count": 35,
     "metadata": {},
     "output_type": "execute_result"
    }
   ],
   "source": [
    "d = np.random.randint(0,2,(4,4))\n",
    "d"
   ]
  },
  {
   "cell_type": "markdown",
   "metadata": {},
   "source": [
    "### 3- Indexação e indexação avançada"
   ]
  },
  {
   "cell_type": "code",
   "execution_count": null,
   "metadata": {},
   "outputs": [],
   "source": [
    "# a é o array 1D que criamos antes\n",
    "a"
   ]
  },
  {
   "cell_type": "code",
   "execution_count": null,
   "metadata": {},
   "outputs": [],
   "source": [
    "# b é o array 2D que criamos antes também\n",
    "b"
   ]
  },
  {
   "cell_type": "code",
   "execution_count": 42,
   "metadata": {},
   "outputs": [
    {
     "name": "stdout",
     "output_type": "stream",
     "text": [
      "1\n",
      "1\n"
     ]
    }
   ],
   "source": [
    "# Acessando o primeiro elemento de a \n",
    "# Podemos acessar a partir do começo, ou do fim\n",
    "print(a[0])\n",
    "print(a[-4])"
   ]
  },
  {
   "cell_type": "code",
   "execution_count": 43,
   "metadata": {},
   "outputs": [
    {
     "name": "stdout",
     "output_type": "stream",
     "text": [
      "4\n",
      "4\n"
     ]
    }
   ],
   "source": [
    "# Mostrando o último elemento de a \n",
    "# Note que o resultado é o mesmo\n",
    "print(a[-1])\n",
    "print(a[3])"
   ]
  },
  {
   "cell_type": "code",
   "execution_count": 44,
   "metadata": {},
   "outputs": [
    {
     "name": "stdout",
     "output_type": "stream",
     "text": [
      "[9 5 0]\n",
      "[9 5 0]\n"
     ]
    }
   ],
   "source": [
    "# Mostrando a primeira linha de b\n",
    "# Note que o resultado também é o mesmo\n",
    "print(b[0]) \n",
    "print(b[0,:])"
   ]
  },
  {
   "cell_type": "code",
   "execution_count": 45,
   "metadata": {},
   "outputs": [
    {
     "data": {
      "text/plain": [
       "array([5, 4, 6])"
      ]
     },
     "execution_count": 45,
     "metadata": {},
     "output_type": "execute_result"
    }
   ],
   "source": [
    "# Agora, exibindo a segunda coluna de b\n",
    "b[:,1]"
   ]
  },
  {
   "cell_type": "code",
   "execution_count": 46,
   "metadata": {},
   "outputs": [
    {
     "name": "stdout",
     "output_type": "stream",
     "text": [
      "['a' 'b' 'c']\n",
      "[['d' 'e' 'f']\n",
      " ['g' 'h' 'k']]\n"
     ]
    }
   ],
   "source": [
    "# Vamos entender melhor a indexação avançada. Criando 2 novos arrays\n",
    "x = np.array(['a', 'b', 'c'])\n",
    "y = np.array([['d','e','f'], \n",
    "              ['g', 'h', 'k']])\n",
    "\n",
    "print(x)\n",
    "print(y)"
   ]
  },
  {
   "cell_type": "code",
   "execution_count": 47,
   "metadata": {},
   "outputs": [
    {
     "data": {
      "text/plain": [
       "array(['c'], dtype='<U1')"
      ]
     },
     "execution_count": 47,
     "metadata": {},
     "output_type": "execute_result"
    }
   ],
   "source": [
    "# Indexando um array com uma lista\n",
    "# Pegando o valor de c do array x\n",
    "ind = [2]\n",
    "x[ind]"
   ]
  },
  {
   "cell_type": "code",
   "execution_count": 48,
   "metadata": {},
   "outputs": [
    {
     "data": {
      "text/plain": [
       "array(['e', 'h'], dtype='<U1')"
      ]
     },
     "execution_count": 48,
     "metadata": {},
     "output_type": "execute_result"
    }
   ],
   "source": [
    "# Indexação avançada em um array 2D\n",
    "# Pegando os valores e,h no array y\n",
    "ind2 = ([0,1],[1])\n",
    "y[ind2]"
   ]
  },
  {
   "cell_type": "markdown",
   "metadata": {},
   "source": [
    "#### 1 - Faça um slice no array criado no [Exerício 2.1](#Ex1) mostrando os 5 primeiros elementos"
   ]
  },
  {
   "cell_type": "code",
   "execution_count": 63,
   "metadata": {},
   "outputs": [
    {
     "data": {
      "text/plain": [
       "array([25, 67,  3, 30, 27])"
      ]
     },
     "execution_count": 63,
     "metadata": {},
     "output_type": "execute_result"
    }
   ],
   "source": [
    "c[:5]"
   ]
  },
  {
   "cell_type": "markdown",
   "metadata": {},
   "source": [
    "#### 2 - Agora, mostre os 5 últimos elementos."
   ]
  },
  {
   "cell_type": "code",
   "execution_count": 65,
   "metadata": {},
   "outputs": [
    {
     "data": {
      "text/plain": [
       "array([ 1, 51, 95, 44,  7])"
      ]
     },
     "execution_count": 65,
     "metadata": {},
     "output_type": "execute_result"
    }
   ],
   "source": [
    "c[5:10]"
   ]
  },
  {
   "cell_type": "markdown",
   "metadata": {},
   "source": [
    "#### 3 - Mostre os elementos dos índices 2 a 7."
   ]
  },
  {
   "cell_type": "code",
   "execution_count": 66,
   "metadata": {},
   "outputs": [
    {
     "data": {
      "text/plain": [
       "array([ 3, 30, 27,  1, 51])"
      ]
     },
     "execution_count": 66,
     "metadata": {},
     "output_type": "execute_result"
    }
   ],
   "source": [
    "c[2:7]"
   ]
  },
  {
   "cell_type": "markdown",
   "metadata": {},
   "source": [
    "#### 4 - Agora, use a indexação avançada para recuperar os elemenos da segunda linha e primeira coluna e da terceira linha e quarta coluna do array criado no [Exercício 2.2](#Ex2)"
   ]
  },
  {
   "cell_type": "code",
   "execution_count": 69,
   "metadata": {},
   "outputs": [
    {
     "data": {
      "text/plain": [
       "array([0, 0])"
      ]
     },
     "execution_count": 69,
     "metadata": {},
     "output_type": "execute_result"
    }
   ],
   "source": [
    "d2 = ([1,1],[2,3])\n",
    "d[d2]"
   ]
  },
  {
   "cell_type": "markdown",
   "metadata": {},
   "source": [
    "### 4- Slicing"
   ]
  },
  {
   "cell_type": "markdown",
   "metadata": {},
   "source": [
    "O NumPy oferece uma forma bastante prática de obter subconjuntos de seus arrays. Para isso, usamos a operação de slicing (fatiamento).\n",
    "\n",
    "Usamos o operado : (dois pontos) para isto. Desta forma, conseguimos recuperar \"fatias\" de um array."
   ]
  },
  {
   "cell_type": "code",
   "execution_count": 49,
   "metadata": {},
   "outputs": [
    {
     "data": {
      "text/plain": [
       "array([ 1,  2,  3,  4,  5,  6,  7,  8,  9, 10])"
      ]
     },
     "execution_count": 49,
     "metadata": {},
     "output_type": "execute_result"
    }
   ],
   "source": [
    "# Criando um array de números inteiros de um a 1 to 10\n",
    "# Note o uso do método arange e a especificação do tipo\n",
    "X = np.arange(1, 11, dtype=int)\n",
    "X"
   ]
  },
  {
   "cell_type": "code",
   "execution_count": 50,
   "metadata": {},
   "outputs": [
    {
     "data": {
      "text/plain": [
       "array([1, 2])"
      ]
     },
     "execution_count": 50,
     "metadata": {},
     "output_type": "execute_result"
    }
   ],
   "source": [
    "# Acessando os dois primeiros elementos\n",
    "X[:2]"
   ]
  },
  {
   "cell_type": "code",
   "execution_count": 51,
   "metadata": {},
   "outputs": [
    {
     "data": {
      "text/plain": [
       "array([3, 4, 5])"
      ]
     },
     "execution_count": 51,
     "metadata": {},
     "output_type": "execute_result"
    }
   ],
   "source": [
    "# Acessando uma fatia entre os índices 2 e 5, inclusive\n",
    "X[2:5]"
   ]
  },
  {
   "cell_type": "code",
   "execution_count": 52,
   "metadata": {},
   "outputs": [
    {
     "data": {
      "text/plain": [
       "array([1, 3, 5, 7, 9])"
      ]
     },
     "execution_count": 52,
     "metadata": {},
     "output_type": "execute_result"
    }
   ],
   "source": [
    "# Mostrando apenas os números pares \n",
    "X[::2]"
   ]
  },
  {
   "cell_type": "code",
   "execution_count": 70,
   "metadata": {},
   "outputs": [
    {
     "data": {
      "text/plain": [
       "array([ 2,  4,  6,  8, 10])"
      ]
     },
     "execution_count": 70,
     "metadata": {},
     "output_type": "execute_result"
    }
   ],
   "source": [
    "# Agora, os ímpares\n",
    "X[1::2]"
   ]
  },
  {
   "cell_type": "code",
   "execution_count": 71,
   "metadata": {},
   "outputs": [
    {
     "data": {
      "text/plain": [
       "array([[1, 2, 3],\n",
       "       [4, 5, 6],\n",
       "       [7, 8, 9]])"
      ]
     },
     "execution_count": 71,
     "metadata": {},
     "output_type": "execute_result"
    }
   ],
   "source": [
    "# Criando um array 2D\n",
    "# Note o uso do método reshape\n",
    "Y= np.arange(1,10).reshape(3,3)\n",
    "Y"
   ]
  },
  {
   "cell_type": "code",
   "execution_count": 72,
   "metadata": {},
   "outputs": [
    {
     "data": {
      "text/plain": [
       "array([[1, 2, 3],\n",
       "       [4, 5, 6]])"
      ]
     },
     "execution_count": 72,
     "metadata": {},
     "output_type": "execute_result"
    }
   ],
   "source": [
    "# Pegando a primeira e segunda linhas\n",
    "Y[:2,:]"
   ]
  },
  {
   "cell_type": "code",
   "execution_count": 73,
   "metadata": {},
   "outputs": [
    {
     "data": {
      "text/plain": [
       "array([[2, 3],\n",
       "       [5, 6],\n",
       "       [8, 9]])"
      ]
     },
     "execution_count": 73,
     "metadata": {},
     "output_type": "execute_result"
    }
   ],
   "source": [
    "# Agora, a segunda e terceira colunas\n",
    "Y[:, 1:]"
   ]
  },
  {
   "cell_type": "code",
   "execution_count": 74,
   "metadata": {},
   "outputs": [
    {
     "data": {
      "text/plain": [
       "array([5, 6])"
      ]
     },
     "execution_count": 74,
     "metadata": {},
     "output_type": "execute_result"
    }
   ],
   "source": [
    "# Uma fatia da segunda linha\n",
    "Y[1,1:]"
   ]
  },
  {
   "cell_type": "markdown",
   "metadata": {},
   "source": [
    "#### 1 - Crie um novo array unidimensional de 10 elementos aleatórios entre 1 e 10."
   ]
  },
  {
   "cell_type": "code",
   "execution_count": 86,
   "metadata": {},
   "outputs": [
    {
     "data": {
      "text/plain": [
       "array([1, 3, 9, 6, 4, 5, 6, 1, 7, 1])"
      ]
     },
     "execution_count": 86,
     "metadata": {},
     "output_type": "execute_result"
    }
   ],
   "source": [
    "e = np.random.randint(1,10,[10])\n",
    "e"
   ]
  },
  {
   "cell_type": "markdown",
   "metadata": {},
   "source": [
    "#### 2 - Faça um slice mostrando os elementos de 3 a 5."
   ]
  },
  {
   "cell_type": "code",
   "execution_count": 87,
   "metadata": {},
   "outputs": [
    {
     "data": {
      "text/plain": [
       "array([6, 4])"
      ]
     },
     "execution_count": 87,
     "metadata": {},
     "output_type": "execute_result"
    }
   ],
   "source": [
    "e[3:5]"
   ]
  },
  {
   "cell_type": "markdown",
   "metadata": {},
   "source": [
    "#### 3 - Faça agora um slice mostrando 4 elementos a partir do primeiro."
   ]
  },
  {
   "cell_type": "code",
   "execution_count": 88,
   "metadata": {},
   "outputs": [
    {
     "data": {
      "text/plain": [
       "array([3, 9, 6, 4])"
      ]
     },
     "execution_count": 88,
     "metadata": {},
     "output_type": "execute_result"
    }
   ],
   "source": [
    "e[1:5]"
   ]
  },
  {
   "cell_type": "markdown",
   "metadata": {},
   "source": [
    "#### 4 - Agora, mostre 4 elementos a partir do último."
   ]
  },
  {
   "cell_type": "code",
   "execution_count": 153,
   "metadata": {},
   "outputs": [
    {
     "data": {
      "text/plain": [
       "array([1, 7, 1, 6])"
      ]
     },
     "execution_count": 153,
     "metadata": {},
     "output_type": "execute_result"
    }
   ],
   "source": [
    "e[-1:5:-1]"
   ]
  },
  {
   "cell_type": "markdown",
   "metadata": {},
   "source": [
    "### 5- Funções universais (unfuncs)\n",
    "\n",
    "\n",
    "##### pressione TAB depois de np. para ver uma lista com as ufuncs disponíveis. np.{TAB}"
   ]
  },
  {
   "cell_type": "markdown",
   "metadata": {},
   "source": [
    "As funções universais são operações comuns que aplicamos em arrays. Devido a serem já embutidas no pacote, elas conseguem lidar com as dimensões dos arrays. Dessa forma, a função é aplicada automaticamente a todos os elementos do array. Repare que as operações retornam uma nova instância com o resultado, ou seja, o array original permanece inalterado."
   ]
  },
  {
   "cell_type": "code",
   "execution_count": 78,
   "metadata": {},
   "outputs": [
    {
     "data": {
      "text/plain": [
       "array([ 1,  2,  3,  4,  5,  6,  7,  8,  9, 10])"
      ]
     },
     "execution_count": 78,
     "metadata": {},
     "output_type": "execute_result"
    }
   ],
   "source": [
    "# Recuperando X\n",
    "X"
   ]
  },
  {
   "cell_type": "code",
   "execution_count": 79,
   "metadata": {},
   "outputs": [
    {
     "data": {
      "text/plain": [
       "10"
      ]
     },
     "execution_count": 79,
     "metadata": {},
     "output_type": "execute_result"
    }
   ],
   "source": [
    "# Maior elemento de X\n",
    "np.max(X)"
   ]
  },
  {
   "cell_type": "code",
   "execution_count": 80,
   "metadata": {},
   "outputs": [
    {
     "data": {
      "text/plain": [
       "5.5"
      ]
     },
     "execution_count": 80,
     "metadata": {},
     "output_type": "execute_result"
    }
   ],
   "source": [
    "# Média aritmética de X\n",
    "np.mean(X)"
   ]
  },
  {
   "cell_type": "code",
   "execution_count": 81,
   "metadata": {},
   "outputs": [
    {
     "data": {
      "text/plain": [
       "array([    1,    16,    81,   256,   625,  1296,  2401,  4096,  6561,\n",
       "       10000], dtype=int32)"
      ]
     },
     "execution_count": 81,
     "metadata": {},
     "output_type": "execute_result"
    }
   ],
   "source": [
    "# 4ª potência de todos os elemento \n",
    "np.power(X, 4)"
   ]
  },
  {
   "cell_type": "code",
   "execution_count": 82,
   "metadata": {},
   "outputs": [
    {
     "name": "stdout",
     "output_type": "stream",
     "text": [
      "[ 0.84147098  0.90929743  0.14112001 -0.7568025  -0.95892427 -0.2794155\n",
      "  0.6569866   0.98935825  0.41211849 -0.54402111]\n",
      "[ 1.55740772 -2.18503986 -0.14254654  1.15782128 -3.38051501 -0.29100619\n",
      "  0.87144798 -6.79971146 -0.45231566  0.64836083]\n"
     ]
    }
   ],
   "source": [
    "# Funções trigonométricas\n",
    "print(np.sin(X))\n",
    "print(np.tan(X))"
   ]
  },
  {
   "cell_type": "code",
   "execution_count": null,
   "metadata": {},
   "outputs": [],
   "source": [
    "# sin²(x) + cos²(x) = 1\n",
    "np.square(np.sin(X)) + np.square(np.cos(X))"
   ]
  },
  {
   "cell_type": "code",
   "execution_count": 83,
   "metadata": {},
   "outputs": [
    {
     "data": {
      "text/plain": [
       "array([[1, 2, 3],\n",
       "       [4, 5, 6],\n",
       "       [7, 8, 9]])"
      ]
     },
     "execution_count": 83,
     "metadata": {},
     "output_type": "execute_result"
    }
   ],
   "source": [
    "# O mesmo se aplica para arrays com mais dimensões\n",
    "Y"
   ]
  },
  {
   "cell_type": "code",
   "execution_count": 84,
   "metadata": {},
   "outputs": [
    {
     "data": {
      "text/plain": [
       "array([[ 2,  4,  6],\n",
       "       [ 8, 10, 12],\n",
       "       [14, 16, 18]])"
      ]
     },
     "execution_count": 84,
     "metadata": {},
     "output_type": "execute_result"
    }
   ],
   "source": [
    "np.multiply(Y, 2)"
   ]
  },
  {
   "cell_type": "code",
   "execution_count": 85,
   "metadata": {},
   "outputs": [
    {
     "data": {
      "text/plain": [
       "[array([[1, 2, 3]]), array([[4, 5, 6]]), array([[7, 8, 9]])]"
      ]
     },
     "execution_count": 85,
     "metadata": {},
     "output_type": "execute_result"
    }
   ],
   "source": [
    "# Separar Y em 3 subarrays\n",
    "np.split(Y, 3)"
   ]
  },
  {
   "cell_type": "markdown",
   "metadata": {},
   "source": [
    "#### 1 - Crie um array unidimensional com 100 elementos uniformemente espaçados entre 0 e 1 e calcule o seno de $2\\times \\pi \\times W$, onde W é o array que você acabou de criar."
   ]
  },
  {
   "cell_type": "code",
   "execution_count": 108,
   "metadata": {},
   "outputs": [
    {
     "data": {
      "text/plain": [
       "array([7.08073418e-01, 8.26821810e-01, 1.99148567e-02, 5.72750017e-01,\n",
       "       9.19535765e-01, 7.80730206e-02, 4.31631391e-01, 9.78829740e-01,\n",
       "       1.69841646e-01, 2.95958969e-01, 9.99980413e-01, 2.87910496e-01,\n",
       "       1.76540339e-01, 9.81302933e-01, 4.22874275e-01, 8.28883197e-02,\n",
       "       9.24285137e-01, 5.63981845e-01, 2.24631780e-02, 8.33469031e-01,\n",
       "       6.99992657e-01, 7.83456762e-05, 7.16088972e-01, 8.20072170e-01,\n",
       "       1.75169858e-02, 5.81495390e-01, 9.14654916e-01, 7.33899461e-02,\n",
       "       4.40409932e-01, 9.76206490e-01, 1.63246419e-01, 3.04071385e-01,\n",
       "       9.99823728e-01, 2.79928489e-01, 1.83340398e-01, 9.83625294e-01,\n",
       "       4.14141329e-01, 8.78343344e-02, 9.28901547e-01, 5.55193622e-01,\n",
       "       2.51611511e-02, 8.40011748e-01, 6.91849222e-01, 3.13358152e-04,\n",
       "       7.24036808e-01, 8.13222224e-01, 1.52703167e-02, 5.90215225e-01,\n",
       "       9.09644123e-01, 6.88405639e-02, 4.49207148e-01, 9.73434005e-01,\n",
       "       1.56756725e-01, 3.12245201e-01, 9.99510407e-01, 2.72015448e-01,\n",
       "       1.90239694e-01, 9.85796095e-01, 4.05435290e-01, 9.29095147e-02,\n",
       "       9.33383546e-01, 5.46388102e-01, 2.80079304e-02, 8.46447911e-01,\n",
       "       6.83645665e-01, 7.04963780e-04, 7.31914434e-01, 8.06274120e-01,\n",
       "       1.31755535e-02, 5.98906787e-01, 9.04504953e-01, 6.44262995e-02,\n",
       "       4.58020282e-01, 9.70513155e-01, 1.50374597e-01, 3.20477857e-01,\n",
       "       9.99040547e-01, 2.64173853e-01, 1.97236063e-01, 9.87814656e-01,\n",
       "       3.96758885e-01, 9.81122701e-02, 9.37729730e-01, 5.37568045e-01,\n",
       "       3.10026239e-02, 8.52775503e-01, 6.75384557e-01, 1.25303984e-03,\n",
       "       7.39719383e-01, 7.99230035e-01, 1.12333526e-02, 6.07567354e-01,\n",
       "       8.99239019e-01, 6.01485364e-02, 4.66846571e-01, 9.67444853e-01,\n",
       "       1.44102036e-01, 3.28766771e-01, 9.98414297e-01, 2.56406162e-01])"
      ]
     },
     "execution_count": 108,
     "metadata": {},
     "output_type": "execute_result"
    }
   ],
   "source": [
    "# Criar um array linear uniformemente espaçado com 5 elementos de 0 a 10 \n",
    "W = np.linspace(1, 100, 100)\n",
    "np.square(np.sin(W))"
   ]
  },
  {
   "cell_type": "markdown",
   "metadata": {},
   "source": [
    "#### 2 - Crie um novo array A com 100 elementos aleatórios entre 0 e 1 e ache $(W + A)^2$, colocando o resultado em um novo array B."
   ]
  },
  {
   "cell_type": "code",
   "execution_count": 155,
   "metadata": {},
   "outputs": [],
   "source": [
    "A = np.random.random([100])\n",
    "B = np.square((W+A)**2)"
   ]
  },
  {
   "cell_type": "code",
   "execution_count": 156,
   "metadata": {},
   "outputs": [
    {
     "data": {
      "text/plain": [
       "array([0.21204659, 0.91907163, 0.1076376 , 0.21101201, 0.09274776,\n",
       "       0.92889016, 0.56695275, 0.94249824, 0.1827197 , 0.99302209,\n",
       "       0.93426567, 0.26547874, 0.62562563, 0.65621138, 0.93973027,\n",
       "       0.40057543, 0.05531671, 0.92666114, 0.41094854, 0.12351891,\n",
       "       0.23812094, 0.36397959, 0.43428584, 0.80284441, 0.87272848,\n",
       "       0.70971792, 0.64100743, 0.79372849, 0.14805927, 0.38525467,\n",
       "       0.63839452, 0.73778197, 0.65742475, 0.62779398, 0.05841049,\n",
       "       0.95578424, 0.82103824, 0.9955791 , 0.95843142, 0.73361098,\n",
       "       0.62003086, 0.7759403 , 0.37003464, 0.85828915, 0.97213186,\n",
       "       0.77833824, 0.39647331, 0.60799897, 0.60294479, 0.80612655,\n",
       "       0.49368679, 0.11499738, 0.19587352, 0.4258515 , 0.174675  ,\n",
       "       0.99055968, 0.54733625, 0.79825536, 0.82911167, 0.64530629,\n",
       "       0.76649576, 0.51473024, 0.29974079, 0.80176684, 0.05487761,\n",
       "       0.90661834, 0.00566259, 0.46136547, 0.52119544, 0.88694433,\n",
       "       0.96664166, 0.08825259, 0.14386303, 0.20839577, 0.75290068,\n",
       "       0.59660168, 0.96327003, 0.26243841, 0.64301318, 0.87916431,\n",
       "       0.75059321, 0.71583945, 0.69225393, 0.27038098, 0.07189325,\n",
       "       0.02440744, 0.2009222 , 0.76239312, 0.82147557, 0.05390332,\n",
       "       0.08479308, 0.93440033, 0.12024375, 0.23151817, 0.73313161,\n",
       "       0.71347225, 0.24669643, 0.35042921, 0.84051857, 0.97444046])"
      ]
     },
     "execution_count": 156,
     "metadata": {},
     "output_type": "execute_result"
    }
   ],
   "source": [
    "A"
   ]
  },
  {
   "cell_type": "code",
   "execution_count": 157,
   "metadata": {},
   "outputs": [
    {
     "data": {
      "text/plain": [
       "array([2.15812827e+00, 7.26070866e+01, 9.32655956e+01, 3.14445888e+02,\n",
       "       6.72680233e+02, 2.30491390e+03, 3.27856718e+03, 6.39492498e+03,\n",
       "       7.11025720e+03, 1.46038850e+04, 2.02853641e+04, 2.26327860e+04,\n",
       "       3.44687718e+04, 4.61409869e+04, 6.45541062e+04, 7.23496349e+04,\n",
       "       8.46134014e+04, 1.28320495e+05, 1.41966878e+05, 1.63989373e+05,\n",
       "       2.03453122e+05, 2.50147605e+05, 3.01583024e+05, 3.78447775e+05,\n",
       "       4.48093788e+05, 5.08952446e+05, 5.83734646e+05, 6.87371657e+05,\n",
       "       7.21836063e+05, 8.52415862e+05, 1.00197699e+06, 1.14867457e+06,\n",
       "       1.28328623e+06, 1.43780272e+06, 1.51066750e+06, 1.86521840e+06,\n",
       "       2.04613266e+06, 2.31239220e+06, 2.54937502e+06, 2.75303445e+06,\n",
       "       3.00061027e+06, 3.34809876e+06, 3.53801016e+06, 4.04921488e+06,\n",
       "       4.46661556e+06, 4.78827582e+06, 5.04642835e+06, 5.58252880e+06,\n",
       "       6.05382469e+06, 6.66291607e+06, 7.03098139e+06, 7.37650907e+06,\n",
       "       8.00777347e+06, 8.77447073e+06, 9.26742617e+06, 1.05490096e+07,\n",
       "       1.09673298e+07, 1.19524727e+07, 1.28129821e+07, 1.35266040e+07,\n",
       "       1.45549880e+07, 1.52731791e+07, 1.60549045e+07, 1.76338600e+07,\n",
       "       1.79109844e+07, 2.00390127e+07, 2.01579342e+07, 2.19675806e+07,\n",
       "       2.33597895e+07, 2.52502117e+07, 2.68240869e+07, 2.70058589e+07,\n",
       "       2.86227643e+07, 3.03257934e+07, 3.29304048e+07, 3.44221512e+07,\n",
       "       3.69453841e+07, 3.75157385e+07, 4.02337701e+07, 4.27904271e+07,\n",
       "       4.46646208e+07, 4.68117338e+07, 4.90615264e+07, 5.04312612e+07,\n",
       "       5.23774550e+07, 5.47629404e+07, 5.78208287e+07, 6.20748975e+07,\n",
       "       6.50909696e+07, 6.57673234e+07, 6.88309089e+07, 7.45943620e+07,\n",
       "       7.51928276e+07, 7.88469235e+07, 8.39941545e+07, 8.74878821e+07,\n",
       "       8.94333353e+07, 9.35631938e+07, 9.93635987e+07, 1.03955105e+08])"
      ]
     },
     "execution_count": 157,
     "metadata": {},
     "output_type": "execute_result"
    }
   ],
   "source": [
    "B"
   ]
  },
  {
   "cell_type": "markdown",
   "metadata": {},
   "source": [
    "#### 3 - Separe o array B em 2 subarrays."
   ]
  },
  {
   "cell_type": "code",
   "execution_count": 158,
   "metadata": {},
   "outputs": [
    {
     "data": {
      "text/plain": [
       "[array([2.15812827e+00, 7.26070866e+01, 9.32655956e+01, 3.14445888e+02,\n",
       "        6.72680233e+02, 2.30491390e+03, 3.27856718e+03, 6.39492498e+03,\n",
       "        7.11025720e+03, 1.46038850e+04, 2.02853641e+04, 2.26327860e+04,\n",
       "        3.44687718e+04, 4.61409869e+04, 6.45541062e+04, 7.23496349e+04,\n",
       "        8.46134014e+04, 1.28320495e+05, 1.41966878e+05, 1.63989373e+05,\n",
       "        2.03453122e+05, 2.50147605e+05, 3.01583024e+05, 3.78447775e+05,\n",
       "        4.48093788e+05, 5.08952446e+05, 5.83734646e+05, 6.87371657e+05,\n",
       "        7.21836063e+05, 8.52415862e+05, 1.00197699e+06, 1.14867457e+06,\n",
       "        1.28328623e+06, 1.43780272e+06, 1.51066750e+06, 1.86521840e+06,\n",
       "        2.04613266e+06, 2.31239220e+06, 2.54937502e+06, 2.75303445e+06,\n",
       "        3.00061027e+06, 3.34809876e+06, 3.53801016e+06, 4.04921488e+06,\n",
       "        4.46661556e+06, 4.78827582e+06, 5.04642835e+06, 5.58252880e+06,\n",
       "        6.05382469e+06, 6.66291607e+06]),\n",
       " array([7.03098139e+06, 7.37650907e+06, 8.00777347e+06, 8.77447073e+06,\n",
       "        9.26742617e+06, 1.05490096e+07, 1.09673298e+07, 1.19524727e+07,\n",
       "        1.28129821e+07, 1.35266040e+07, 1.45549880e+07, 1.52731791e+07,\n",
       "        1.60549045e+07, 1.76338600e+07, 1.79109844e+07, 2.00390127e+07,\n",
       "        2.01579342e+07, 2.19675806e+07, 2.33597895e+07, 2.52502117e+07,\n",
       "        2.68240869e+07, 2.70058589e+07, 2.86227643e+07, 3.03257934e+07,\n",
       "        3.29304048e+07, 3.44221512e+07, 3.69453841e+07, 3.75157385e+07,\n",
       "        4.02337701e+07, 4.27904271e+07, 4.46646208e+07, 4.68117338e+07,\n",
       "        4.90615264e+07, 5.04312612e+07, 5.23774550e+07, 5.47629404e+07,\n",
       "        5.78208287e+07, 6.20748975e+07, 6.50909696e+07, 6.57673234e+07,\n",
       "        6.88309089e+07, 7.45943620e+07, 7.51928276e+07, 7.88469235e+07,\n",
       "        8.39941545e+07, 8.74878821e+07, 8.94333353e+07, 9.35631938e+07,\n",
       "        9.93635987e+07, 1.03955105e+08])]"
      ]
     },
     "execution_count": 158,
     "metadata": {},
     "output_type": "execute_result"
    }
   ],
   "source": [
    "np.split(B, 2)"
   ]
  },
  {
   "cell_type": "markdown",
   "metadata": {},
   "source": [
    "### 6- Broadcasting"
   ]
  },
  {
   "cell_type": "markdown",
   "metadata": {},
   "source": [
    " Broadcasting é a capacidade de usar funções em diferentes tamanhos de matriz. O Broadcasting funciona tanto com unfuncs quanto com alguns operadores."
   ]
  },
  {
   "cell_type": "code",
   "execution_count": 109,
   "metadata": {},
   "outputs": [
    {
     "data": {
      "text/plain": [
       "array([ 1,  2,  3,  4,  5,  6,  7,  8,  9, 10])"
      ]
     },
     "execution_count": 109,
     "metadata": {},
     "output_type": "execute_result"
    }
   ],
   "source": [
    "X"
   ]
  },
  {
   "cell_type": "code",
   "execution_count": null,
   "metadata": {},
   "outputs": [],
   "source": [
    "# Somar 5 a cada elemento\n",
    "X + 5"
   ]
  },
  {
   "cell_type": "code",
   "execution_count": null,
   "metadata": {},
   "outputs": [],
   "source": [
    "# ou\n",
    "np.add(X, 5)"
   ]
  },
  {
   "cell_type": "code",
   "execution_count": null,
   "metadata": {},
   "outputs": [],
   "source": [
    "# Criando um novo array Z \n",
    "Z = np.arange(3)[:, np.newaxis]\n",
    "Z"
   ]
  },
  {
   "cell_type": "code",
   "execution_count": null,
   "metadata": {},
   "outputs": [],
   "source": [
    "# Multiplicando Y and Z\n",
    "np.multiply(Y, Z)"
   ]
  },
  {
   "cell_type": "markdown",
   "metadata": {},
   "source": [
    "#### 1 - Recalcula a matriz B como sendo a soma de W e A."
   ]
  },
  {
   "cell_type": "code",
   "execution_count": 159,
   "metadata": {},
   "outputs": [
    {
     "data": {
      "text/plain": [
       "array([1.46905693e+00, 8.52097921e+00, 9.65741143e+00, 1.77326222e+01,\n",
       "       2.59360798e+01, 4.80095189e+01, 5.72587739e+01, 7.99682748e+01,\n",
       "       8.43223411e+01, 1.20846535e+02, 1.42426697e+02, 1.50441969e+02,\n",
       "       1.85657674e+02, 2.14804532e+02, 2.54075001e+02, 2.68978875e+02,\n",
       "       2.90883828e+02, 3.58218502e+02, 3.76784923e+02, 4.04956013e+02,\n",
       "       4.51057781e+02, 5.00147583e+02, 5.49165753e+02, 6.15181091e+02,\n",
       "       6.69398079e+02, 7.13409032e+02, 7.64025292e+02, 8.29078800e+02,\n",
       "       8.49609359e+02, 9.23263701e+02, 1.00098801e+03, 1.07176237e+03,\n",
       "       1.13282224e+03, 1.19908412e+03, 1.22909215e+03, 1.36572999e+03,\n",
       "       1.43043093e+03, 1.52065519e+03, 1.59667624e+03, 1.65922706e+03,\n",
       "       1.73222697e+03, 1.82978107e+03, 1.88095990e+03, 2.01226611e+03,\n",
       "       2.11343691e+03, 2.18821293e+03, 2.24642568e+03, 2.36273756e+03,\n",
       "       2.46045213e+03, 2.58126250e+03, 2.65159978e+03, 2.71597295e+03,\n",
       "       2.82980096e+03, 2.96217331e+03, 3.04424476e+03, 3.24792389e+03,\n",
       "       3.31169591e+03, 3.45723483e+03, 3.57952260e+03, 3.67785318e+03,\n",
       "       3.81510000e+03, 3.90809150e+03, 4.00685718e+03, 4.19926899e+03,\n",
       "       4.23213710e+03, 4.47649558e+03, 4.48975882e+03, 4.68695856e+03,\n",
       "       4.83319662e+03, 5.02495888e+03, 5.17919751e+03, 5.19671616e+03,\n",
       "       5.35002470e+03, 5.50688600e+03, 5.73850196e+03, 5.86703939e+03,\n",
       "       6.07827147e+03, 6.12500927e+03, 6.34300955e+03, 6.54143922e+03,\n",
       "       6.68315949e+03, 6.84191010e+03, 7.00439337e+03, 7.10149711e+03,\n",
       "       7.23722702e+03, 7.40019867e+03, 7.60400083e+03, 7.87876243e+03,\n",
       "       8.06789747e+03, 8.10970550e+03, 8.29643953e+03, 8.63680276e+03,\n",
       "       8.67137980e+03, 8.87957902e+03, 9.16483249e+03, 9.35349572e+03,\n",
       "       9.45691997e+03, 9.67280693e+03, 9.96812915e+03, 1.01958376e+04])"
      ]
     },
     "execution_count": 159,
     "metadata": {},
     "output_type": "execute_result"
    }
   ],
   "source": [
    "B1 = np.square((W+A))\n",
    "B1"
   ]
  },
  {
   "cell_type": "markdown",
   "metadata": {},
   "source": [
    "### 7- Ordenação, Comparação e Máscaras"
   ]
  },
  {
   "cell_type": "code",
   "execution_count": 139,
   "metadata": {},
   "outputs": [
    {
     "data": {
      "text/plain": [
       "array([3, 4, 2, 1, 1, 4, 4, 3, 2, 1])"
      ]
     },
     "execution_count": 139,
     "metadata": {},
     "output_type": "execute_result"
    }
   ],
   "source": [
    "# Criando um array com 10 elementos aleatórios entre 1 e 5\n",
    "x = np.random.randint(1,5, 10)\n",
    "x"
   ]
  },
  {
   "cell_type": "code",
   "execution_count": 141,
   "metadata": {},
   "outputs": [
    {
     "data": {
      "text/plain": [
       "array([[4, 1, 4],\n",
       "       [4, 4, 1],\n",
       "       [2, 2, 1]])"
      ]
     },
     "execution_count": 141,
     "metadata": {},
     "output_type": "execute_result"
    }
   ],
   "source": [
    "# Criando um array 3x3 com elementos aleatórios entre 1 e 5\n",
    "y = np.random.randint(1,5, (3,3))\n",
    "y"
   ]
  },
  {
   "cell_type": "code",
   "execution_count": 140,
   "metadata": {},
   "outputs": [
    {
     "data": {
      "text/plain": [
       "array([1, 1, 1, 2, 2, 3, 3, 4, 4, 4])"
      ]
     },
     "execution_count": 140,
     "metadata": {},
     "output_type": "execute_result"
    }
   ],
   "source": [
    "# Ordenando os elementos no array x\n",
    "np.sort(x)"
   ]
  },
  {
   "cell_type": "code",
   "execution_count": 142,
   "metadata": {},
   "outputs": [
    {
     "data": {
      "text/plain": [
       "array([[2, 1, 1],\n",
       "       [4, 2, 1],\n",
       "       [4, 4, 4]])"
      ]
     },
     "execution_count": 142,
     "metadata": {},
     "output_type": "execute_result"
    }
   ],
   "source": [
    "# Ordenando os valores na direção das colunas\n",
    "np.sort(y, axis=0)"
   ]
  },
  {
   "cell_type": "code",
   "execution_count": 143,
   "metadata": {},
   "outputs": [
    {
     "data": {
      "text/plain": [
       "array([[1, 4, 4],\n",
       "       [1, 4, 4],\n",
       "       [1, 2, 2]])"
      ]
     },
     "execution_count": 143,
     "metadata": {},
     "output_type": "execute_result"
    }
   ],
   "source": [
    "# Ordenando os valores na direção das linhas\n",
    "np.sort(y, axis=1)"
   ]
  },
  {
   "cell_type": "code",
   "execution_count": 144,
   "metadata": {},
   "outputs": [
    {
     "data": {
      "text/plain": [
       "array([False,  True, False, False, False,  True,  True, False, False,\n",
       "       False])"
      ]
     },
     "execution_count": 144,
     "metadata": {},
     "output_type": "execute_result"
    }
   ],
   "source": [
    "# Operações de comparação == , !=, < , >, >=, <=\n",
    "# A operação retorna um booleano\n",
    "x > 3"
   ]
  },
  {
   "cell_type": "code",
   "execution_count": 145,
   "metadata": {},
   "outputs": [
    {
     "data": {
      "text/plain": [
       "array([4, 4, 4])"
      ]
     },
     "execution_count": 145,
     "metadata": {},
     "output_type": "execute_result"
    }
   ],
   "source": [
    "# Para recuperar os valores que satisfazem a comparação, usamos a operação conhecida como máscara\n",
    "x[x>3]"
   ]
  },
  {
   "cell_type": "code",
   "execution_count": 146,
   "metadata": {},
   "outputs": [
    {
     "data": {
      "text/plain": [
       "array([3, 2, 3, 2])"
      ]
     },
     "execution_count": 146,
     "metadata": {},
     "output_type": "execute_result"
    }
   ],
   "source": [
    "# Outro exemplo\n",
    "x[(x <= 3) & (x>1)]"
   ]
  },
  {
   "cell_type": "markdown",
   "metadata": {},
   "source": [
    "# Links importante\n",
    "\n",
    "[Lista de Notebooks sobre NumPy](https://datascientistnotebook.com/numpy/)"
   ]
  }
 ],
 "metadata": {
  "kernelspec": {
   "display_name": "Python 3",
   "language": "python",
   "name": "python3"
  },
  "language_info": {
   "codemirror_mode": {
    "name": "ipython",
    "version": 3
   },
   "file_extension": ".py",
   "mimetype": "text/x-python",
   "name": "python",
   "nbconvert_exporter": "python",
   "pygments_lexer": "ipython3",
   "version": "3.7.1"
  }
 },
 "nbformat": 4,
 "nbformat_minor": 2
}
